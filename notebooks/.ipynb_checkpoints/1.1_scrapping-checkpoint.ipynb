{
 "cells": [
  {
   "cell_type": "code",
   "execution_count": null,
   "metadata": {},
   "outputs": [],
   "source": []
  },
  {
   "cell_type": "code",
   "execution_count": 1,
   "id": "e6238da9",
   "metadata": {},
   "outputs": [],
   "source": [
    "from selenium.common.exceptions import TimeoutException\n",
    "from selenium import webdriver\n",
    "# import chromedriver_binary  # Adds chromedriver binary to path\n",
    "import time\n",
    "from selenium.webdriver.common.by import By\n",
    "from selenium.webdriver.support.ui import WebDriverWait\n",
    "from selenium.webdriver.support import expected_conditions as EC\n",
    "import pandas as pd\n",
    "import matplotlib.pyplot as plt\n",
    "import numpy as np\n",
    "import seaborn as sns\n",
    "import pandas as pd\n",
    "import os\n"
   ]
  },
  {
   "cell_type": "code",
   "execution_count": null,
   "id": "870872dc",
   "metadata": {},
   "outputs": [],
   "source": []
  },
  {
   "cell_type": "code",
   "execution_count": 2,
   "id": "0fe27a81",
   "metadata": {},
   "outputs": [],
   "source": [
    "# os.listdir('..\\data\\external\\final_data')"
   ]
  },
  {
   "cell_type": "code",
   "execution_count": 3,
   "id": "5ffad3cb",
   "metadata": {},
   "outputs": [],
   "source": [
    "df = pd.read_csv('../data/external/final_data/final_data_without_duplicates_10_elbagory.csv', index_col=0)"
   ]
  },
  {
   "cell_type": "code",
   "execution_count": 4,
   "id": "2a917891",
   "metadata": {},
   "outputs": [
    {
     "name": "stdout",
     "output_type": "stream",
     "text": [
      "<class 'pandas.core.frame.DataFrame'>\n",
      "Int64Index: 9114 entries, 256306 to 17363\n",
      "Data columns (total 11 columns):\n",
      " #   Column             Non-Null Count  Dtype \n",
      "---  ------             --------------  ----- \n",
      " 0   video_id           9114 non-null   object\n",
      " 1   trending_date      9114 non-null   object\n",
      " 2   publish_time       9114 non-null   object\n",
      " 3   views              9114 non-null   int64 \n",
      " 4   likes              9114 non-null   int64 \n",
      " 5   dislikes           9114 non-null   int64 \n",
      " 6   comment_count      9114 non-null   int64 \n",
      " 7   comments_disabled  9114 non-null   bool  \n",
      " 8   ratings_disabled   9114 non-null   bool  \n",
      " 9   category_title     9114 non-null   object\n",
      " 10  Country            9114 non-null   object\n",
      "dtypes: bool(2), int64(4), object(5)\n",
      "memory usage: 729.8+ KB\n"
     ]
    }
   ],
   "source": [
    "df.info()"
   ]
  },
  {
   "cell_type": "code",
   "execution_count": 5,
   "id": "0ce3332c",
   "metadata": {},
   "outputs": [
    {
     "data": {
      "text/plain": [
       "256306    GK6gPiWoAiI\n",
       "169512    JmFSZdrlJco\n",
       "296651    Oj-70unSKAQ\n",
       "226725    T35-UXcH1po\n",
       "359972    __-22AJoFxY\n",
       "             ...     \n",
       "89010     9hCoH70NRD4\n",
       "302792    BfnkIhj_6Is\n",
       "253626    hG4lM-yXnqs\n",
       "58887     ADsP_VigXJI\n",
       "17363     F8o5Ya660AI\n",
       "Name: video_id, Length: 9114, dtype: object"
      ]
     },
     "execution_count": 5,
     "metadata": {},
     "output_type": "execute_result"
    }
   ],
   "source": [
    "df.video_id"
   ]
  },
  {
   "cell_type": "code",
   "execution_count": 6,
   "id": "72a36262",
   "metadata": {},
   "outputs": [],
   "source": [
    "# <span class=\"ytp-ad-preview-container countdown-next-to-thumbnail\" style=\"\"><div class=\"ytp-ad-text ytp-ad-preview-text\" id=\"ad-text:6\" style=\"\">3</div><span class=\"ytp-ad-preview-image\"><img class=\"ytp-ad-image\" id=\"ad-image:7\" src=\"https://i.ytimg.com/vi/xOo8BiSLVSE/mqdefault.jpg\" alt=\"\" style=\"\"></span></span>"
   ]
  },
  {
   "cell_type": "code",
   "execution_count": 7,
   "id": "efab69a6",
   "metadata": {},
   "outputs": [],
   "source": [
    "from selenium.common.exceptions import NoSuchElementException        \n",
    "\n",
    "def check_ele(XPATH):\n",
    "    try:    \n",
    "        WebDriverWait(driver,1).until(\n",
    "            EC.presence_of_element_located((By.XPATH, XPATH)))\n",
    "    except TimeoutException:\n",
    "        return False\n",
    "    \n",
    "    return True\n"
   ]
  },
  {
   "cell_type": "code",
   "execution_count": 10,
   "id": "88043205",
   "metadata": {},
   "outputs": [
    {
     "name": "stderr",
     "output_type": "stream",
     "text": [
      "C:\\Users\\Muhammad\\AppData\\Local\\Temp/ipykernel_8964/270575954.py:2: DeprecationWarning: executable_path has been deprecated, please pass in a Service object\n",
      "  driver = webdriver.Chrome(executable_path='../../chromedriver')\n"
     ]
    },
    {
     "name": "stdout",
     "output_type": "stream",
     "text": [
      "1 44:39\n",
      "2 10:08\n"
     ]
    },
    {
     "ename": "WebDriverException",
     "evalue": "Message: chrome not reachable\n  (Session info: chrome=100.0.4896.88)\nStacktrace:\nBacktrace:\n\tOrdinal0 [0x004B7413+2389011]\n\tOrdinal0 [0x00449F61+1941345]\n\tOrdinal0 [0x0033C520+836896]\n\tOrdinal0 [0x00330682+788098]\n\tOrdinal0 [0x00330EB8+790200]\n\tOrdinal0 [0x00332752+796498]\n\tOrdinal0 [0x0032C0D9+770265]\n\tOrdinal0 [0x0033D9D0+842192]\n\tOrdinal0 [0x00393AE2+1194722]\n\tOrdinal0 [0x00383F66+1130342]\n\tOrdinal0 [0x0035E546+976198]\n\tOrdinal0 [0x0035F456+980054]\n\tGetHandleVerifier [0x00669632+1727522]\n\tGetHandleVerifier [0x0071BA4D+2457661]\n\tGetHandleVerifier [0x0054EB81+569713]\n\tGetHandleVerifier [0x0054DD76+566118]\n\tOrdinal0 [0x00450B2B+1968939]\n\tOrdinal0 [0x00455988+1989000]\n\tOrdinal0 [0x00455A75+1989237]\n\tOrdinal0 [0x0045ECB1+2026673]\n\tBaseThreadInitThunk [0x7647FA29+25]\n\tRtlGetAppContainerNamedObjectPath [0x778B7A7E+286]\n\tRtlGetAppContainerNamedObjectPath [0x778B7A4E+238]\n",
     "output_type": "error",
     "traceback": [
      "\u001b[1;31m---------------------------------------------------------------------------\u001b[0m",
      "\u001b[1;31mWebDriverException\u001b[0m                        Traceback (most recent call last)",
      "\u001b[1;32m~\\AppData\\Local\\Temp/ipykernel_8964/270575954.py\u001b[0m in \u001b[0;36m<module>\u001b[1;34m\u001b[0m\n\u001b[0;32m      3\u001b[0m \u001b[0mi\u001b[0m \u001b[1;33m=\u001b[0m \u001b[1;36m0\u001b[0m\u001b[1;33m\u001b[0m\u001b[1;33m\u001b[0m\u001b[0m\n\u001b[0;32m      4\u001b[0m \u001b[1;32mfor\u001b[0m \u001b[0midx\u001b[0m \u001b[1;33m,\u001b[0m\u001b[0mvid\u001b[0m \u001b[1;32min\u001b[0m \u001b[0mzip\u001b[0m\u001b[1;33m(\u001b[0m\u001b[0mdf0\u001b[0m\u001b[1;33m.\u001b[0m\u001b[0mindex\u001b[0m\u001b[1;33m.\u001b[0m\u001b[0mvalues\u001b[0m\u001b[1;33m,\u001b[0m\u001b[0mdf0\u001b[0m\u001b[1;33m.\u001b[0m\u001b[0mvideo_id\u001b[0m\u001b[1;33m.\u001b[0m\u001b[0mvalues\u001b[0m\u001b[1;33m)\u001b[0m\u001b[1;33m:\u001b[0m\u001b[1;33m\u001b[0m\u001b[1;33m\u001b[0m\u001b[0m\n\u001b[1;32m----> 5\u001b[1;33m     \u001b[0mdriver\u001b[0m\u001b[1;33m.\u001b[0m\u001b[0mget\u001b[0m\u001b[1;33m(\u001b[0m\u001b[1;34m'https://www.youtube.com/watch?v='\u001b[0m \u001b[1;33m+\u001b[0m \u001b[0mvid\u001b[0m\u001b[1;33m)\u001b[0m\u001b[1;33m\u001b[0m\u001b[1;33m\u001b[0m\u001b[0m\n\u001b[0m\u001b[0;32m      6\u001b[0m     \u001b[0mwait\u001b[0m \u001b[1;33m=\u001b[0m \u001b[0mWebDriverWait\u001b[0m\u001b[1;33m(\u001b[0m\u001b[0mdriver\u001b[0m\u001b[1;33m,\u001b[0m \u001b[1;36m10\u001b[0m\u001b[1;33m)\u001b[0m\u001b[1;33m\u001b[0m\u001b[1;33m\u001b[0m\u001b[0m\n\u001b[0;32m      7\u001b[0m     \u001b[0mad\u001b[0m \u001b[1;33m=\u001b[0m \u001b[0mcheck_ele\u001b[0m\u001b[1;33m(\u001b[0m\u001b[1;34m'//span[@class=\"ytp-ad-preview-container countdown-next-to-thumbnail\"]'\u001b[0m\u001b[1;33m)\u001b[0m\u001b[1;33m\u001b[0m\u001b[1;33m\u001b[0m\u001b[0m\n",
      "\u001b[1;32m~\\anaconda3\\lib\\site-packages\\selenium\\webdriver\\remote\\webdriver.py\u001b[0m in \u001b[0;36mget\u001b[1;34m(self, url)\u001b[0m\n\u001b[0;32m    434\u001b[0m         \u001b[0mLoads\u001b[0m \u001b[0ma\u001b[0m \u001b[0mweb\u001b[0m \u001b[0mpage\u001b[0m \u001b[1;32min\u001b[0m \u001b[0mthe\u001b[0m \u001b[0mcurrent\u001b[0m \u001b[0mbrowser\u001b[0m \u001b[0msession\u001b[0m\u001b[1;33m.\u001b[0m\u001b[1;33m\u001b[0m\u001b[1;33m\u001b[0m\u001b[0m\n\u001b[0;32m    435\u001b[0m         \"\"\"\n\u001b[1;32m--> 436\u001b[1;33m         \u001b[0mself\u001b[0m\u001b[1;33m.\u001b[0m\u001b[0mexecute\u001b[0m\u001b[1;33m(\u001b[0m\u001b[0mCommand\u001b[0m\u001b[1;33m.\u001b[0m\u001b[0mGET\u001b[0m\u001b[1;33m,\u001b[0m \u001b[1;33m{\u001b[0m\u001b[1;34m'url'\u001b[0m\u001b[1;33m:\u001b[0m \u001b[0murl\u001b[0m\u001b[1;33m}\u001b[0m\u001b[1;33m)\u001b[0m\u001b[1;33m\u001b[0m\u001b[1;33m\u001b[0m\u001b[0m\n\u001b[0m\u001b[0;32m    437\u001b[0m \u001b[1;33m\u001b[0m\u001b[0m\n\u001b[0;32m    438\u001b[0m     \u001b[1;33m@\u001b[0m\u001b[0mproperty\u001b[0m\u001b[1;33m\u001b[0m\u001b[1;33m\u001b[0m\u001b[0m\n",
      "\u001b[1;32m~\\anaconda3\\lib\\site-packages\\selenium\\webdriver\\remote\\webdriver.py\u001b[0m in \u001b[0;36mexecute\u001b[1;34m(self, driver_command, params)\u001b[0m\n\u001b[0;32m    422\u001b[0m         \u001b[0mresponse\u001b[0m \u001b[1;33m=\u001b[0m \u001b[0mself\u001b[0m\u001b[1;33m.\u001b[0m\u001b[0mcommand_executor\u001b[0m\u001b[1;33m.\u001b[0m\u001b[0mexecute\u001b[0m\u001b[1;33m(\u001b[0m\u001b[0mdriver_command\u001b[0m\u001b[1;33m,\u001b[0m \u001b[0mparams\u001b[0m\u001b[1;33m)\u001b[0m\u001b[1;33m\u001b[0m\u001b[1;33m\u001b[0m\u001b[0m\n\u001b[0;32m    423\u001b[0m         \u001b[1;32mif\u001b[0m \u001b[0mresponse\u001b[0m\u001b[1;33m:\u001b[0m\u001b[1;33m\u001b[0m\u001b[1;33m\u001b[0m\u001b[0m\n\u001b[1;32m--> 424\u001b[1;33m             \u001b[0mself\u001b[0m\u001b[1;33m.\u001b[0m\u001b[0merror_handler\u001b[0m\u001b[1;33m.\u001b[0m\u001b[0mcheck_response\u001b[0m\u001b[1;33m(\u001b[0m\u001b[0mresponse\u001b[0m\u001b[1;33m)\u001b[0m\u001b[1;33m\u001b[0m\u001b[1;33m\u001b[0m\u001b[0m\n\u001b[0m\u001b[0;32m    425\u001b[0m             response['value'] = self._unwrap_value(\n\u001b[0;32m    426\u001b[0m                 response.get('value', None))\n",
      "\u001b[1;32m~\\anaconda3\\lib\\site-packages\\selenium\\webdriver\\remote\\errorhandler.py\u001b[0m in \u001b[0;36mcheck_response\u001b[1;34m(self, response)\u001b[0m\n\u001b[0;32m    245\u001b[0m                 \u001b[0malert_text\u001b[0m \u001b[1;33m=\u001b[0m \u001b[0mvalue\u001b[0m\u001b[1;33m[\u001b[0m\u001b[1;34m'alert'\u001b[0m\u001b[1;33m]\u001b[0m\u001b[1;33m.\u001b[0m\u001b[0mget\u001b[0m\u001b[1;33m(\u001b[0m\u001b[1;34m'text'\u001b[0m\u001b[1;33m)\u001b[0m\u001b[1;33m\u001b[0m\u001b[1;33m\u001b[0m\u001b[0m\n\u001b[0;32m    246\u001b[0m             \u001b[1;32mraise\u001b[0m \u001b[0mexception_class\u001b[0m\u001b[1;33m(\u001b[0m\u001b[0mmessage\u001b[0m\u001b[1;33m,\u001b[0m \u001b[0mscreen\u001b[0m\u001b[1;33m,\u001b[0m \u001b[0mstacktrace\u001b[0m\u001b[1;33m,\u001b[0m \u001b[0malert_text\u001b[0m\u001b[1;33m)\u001b[0m  \u001b[1;31m# type: ignore[call-arg]  # mypy is not smart enough here\u001b[0m\u001b[1;33m\u001b[0m\u001b[1;33m\u001b[0m\u001b[0m\n\u001b[1;32m--> 247\u001b[1;33m         \u001b[1;32mraise\u001b[0m \u001b[0mexception_class\u001b[0m\u001b[1;33m(\u001b[0m\u001b[0mmessage\u001b[0m\u001b[1;33m,\u001b[0m \u001b[0mscreen\u001b[0m\u001b[1;33m,\u001b[0m \u001b[0mstacktrace\u001b[0m\u001b[1;33m)\u001b[0m\u001b[1;33m\u001b[0m\u001b[1;33m\u001b[0m\u001b[0m\n\u001b[0m\u001b[0;32m    248\u001b[0m \u001b[1;33m\u001b[0m\u001b[0m\n\u001b[0;32m    249\u001b[0m     \u001b[1;32mdef\u001b[0m \u001b[0m_value_or_default\u001b[0m\u001b[1;33m(\u001b[0m\u001b[0mself\u001b[0m\u001b[1;33m,\u001b[0m \u001b[0mobj\u001b[0m\u001b[1;33m:\u001b[0m \u001b[0mMapping\u001b[0m\u001b[1;33m[\u001b[0m\u001b[0m_KT\u001b[0m\u001b[1;33m,\u001b[0m \u001b[0m_VT\u001b[0m\u001b[1;33m]\u001b[0m\u001b[1;33m,\u001b[0m \u001b[0mkey\u001b[0m\u001b[1;33m:\u001b[0m \u001b[0m_KT\u001b[0m\u001b[1;33m,\u001b[0m \u001b[0mdefault\u001b[0m\u001b[1;33m:\u001b[0m \u001b[0m_VT\u001b[0m\u001b[1;33m)\u001b[0m \u001b[1;33m->\u001b[0m \u001b[0m_VT\u001b[0m\u001b[1;33m:\u001b[0m\u001b[1;33m\u001b[0m\u001b[1;33m\u001b[0m\u001b[0m\n",
      "\u001b[1;31mWebDriverException\u001b[0m: Message: chrome not reachable\n  (Session info: chrome=100.0.4896.88)\nStacktrace:\nBacktrace:\n\tOrdinal0 [0x004B7413+2389011]\n\tOrdinal0 [0x00449F61+1941345]\n\tOrdinal0 [0x0033C520+836896]\n\tOrdinal0 [0x00330682+788098]\n\tOrdinal0 [0x00330EB8+790200]\n\tOrdinal0 [0x00332752+796498]\n\tOrdinal0 [0x0032C0D9+770265]\n\tOrdinal0 [0x0033D9D0+842192]\n\tOrdinal0 [0x00393AE2+1194722]\n\tOrdinal0 [0x00383F66+1130342]\n\tOrdinal0 [0x0035E546+976198]\n\tOrdinal0 [0x0035F456+980054]\n\tGetHandleVerifier [0x00669632+1727522]\n\tGetHandleVerifier [0x0071BA4D+2457661]\n\tGetHandleVerifier [0x0054EB81+569713]\n\tGetHandleVerifier [0x0054DD76+566118]\n\tOrdinal0 [0x00450B2B+1968939]\n\tOrdinal0 [0x00455988+1989000]\n\tOrdinal0 [0x00455A75+1989237]\n\tOrdinal0 [0x0045ECB1+2026673]\n\tBaseThreadInitThunk [0x7647FA29+25]\n\tRtlGetAppContainerNamedObjectPath [0x778B7A7E+286]\n\tRtlGetAppContainerNamedObjectPath [0x778B7A4E+238]\n"
     ]
    }
   ],
   "source": [
    "df0 = pd.DataFrame(df.iloc[3971:, :])\n",
    "driver = webdriver.Chrome(executable_path='../../chromedriver')\n",
    "i = 0\n",
    "for idx ,vid in zip(df0.index.values,df0.video_id.values):\n",
    "    driver.get('https://www.youtube.com/watch?v=' + vid)\n",
    "    wait = WebDriverWait(driver, 10)\n",
    "    ad = check_ele('//span[@class=\"ytp-ad-preview-container countdown-next-to-thumbnail\"]')\n",
    "\n",
    "    try:\n",
    "        if(ad):\n",
    "            elem = wait.until(EC.visibility_of_element_located((By.XPATH, '//button[@class=\"ytp-ad-skip-button ytp-button\"]')), \n",
    "                          \"Cannot find 'Load More' button\")\n",
    "            elem.click()\n",
    "        \n",
    "    except:\n",
    "        continue\n",
    "    finally:\n",
    "        try:\n",
    "            elem2 = driver.find_element(By.XPATH, '//video[@class=\"video-stream html5-main-video\"]')\n",
    "            elem2.click()\n",
    "            \n",
    "#             dur = check_ele()\n",
    "            dur = !driver.findElements(By.XPATH('//span[@class=\"ytp-time-duration\"]')).isEmpty()\n",
    "\n",
    "#             print(dur)\n",
    "            i += 1\n",
    "            if (dur):\n",
    "                duration = str(driver.find_element(By.XPATH, '//span[@class=\"ytp-time-duration\"]').text)\n",
    "                df.at[idx,'duration'] = duration\n",
    "                print(i, duration)\n",
    "            else:\n",
    "                df.at[idx,'duration'] = 0\n",
    "                print(0)\n",
    "            \n",
    "            duration = ''\n",
    "               \n",
    "\n",
    "        except:\n",
    "            continue\n",
    "\n",
    "            \n",
    "\n",
    "\n",
    "                \n",
    "\n",
    "# driver.close()\n",
    "# print('https://www.youtube.com/watch?v=' + vid)\n",
    "    "
   ]
  },
  {
   "cell_type": "code",
   "execution_count": 12,
   "metadata": {},
   "outputs": [
    {
     "data": {
      "text/plain": [
       "video_id                          TbCHA_E7MqM\n",
       "trending_date                        17.31.12\n",
       "publish_time         2017-12-30T16:30:00.000Z\n",
       "views                                   85225\n",
       "likes                                     286\n",
       "dislikes                                   55\n",
       "comment_count                              29\n",
       "comments_disabled                       False\n",
       "ratings_disabled                        False\n",
       "category_title               Film & Animation\n",
       "Country                                    RU\n",
       "duration                                44:39\n",
       "Name: 325400, dtype: object"
      ]
     },
     "execution_count": 12,
     "metadata": {},
     "output_type": "execute_result"
    }
   ],
   "source": [
    "df.iloc[3971, :]\n",
    "#Cf1ydzD9tCQ"
   ]
  },
  {
   "cell_type": "code",
   "execution_count": null,
   "id": "e5582deb",
   "metadata": {},
   "outputs": [
    {
     "name": "stdout",
     "output_type": "stream",
     "text": [
      "<class 'pandas.core.frame.DataFrame'>\n",
      "Int64Index: 4077 entries, 301844 to 293841\n",
      "Data columns (total 12 columns):\n",
      " #   Column             Non-Null Count  Dtype \n",
      "---  ------             --------------  ----- \n",
      " 0   video_id           4077 non-null   object\n",
      " 1   trending_date      4077 non-null   object\n",
      " 2   publish_time       4077 non-null   object\n",
      " 3   views              4077 non-null   int64 \n",
      " 4   likes              4077 non-null   int64 \n",
      " 5   dislikes           4077 non-null   int64 \n",
      " 6   comment_count      4077 non-null   int64 \n",
      " 7   comments_disabled  4077 non-null   bool  \n",
      " 8   ratings_disabled   4077 non-null   bool  \n",
      " 9   category_title     4077 non-null   object\n",
      " 10  Country            4077 non-null   object\n",
      " 11  duration           4077 non-null   object\n",
      "dtypes: bool(2), int64(4), object(6)\n",
      "memory usage: 358.3+ KB\n"
     ]
    }
   ],
   "source": [
    "df[~df.duration.isna()].info()"
   ]
  },
  {
   "cell_type": "code",
   "execution_count": null,
   "id": "fdebf987",
   "metadata": {},
   "outputs": [],
   "source": [
    "df[~df.duration.isna()].to_csv('../data/external/final_data/final_data_without_duplicates_10_elbagory_scrapping_without_nulls.csv')\n"
   ]
  },
  {
   "cell_type": "code",
   "execution_count": 10,
   "id": "43a461b5",
   "metadata": {},
   "outputs": [],
   "source": [
    "df.to_csv('../data/external/final_data/final_data_without_duplicates_10_elbagory_scrapping.csv')"
   ]
  },
  {
   "cell_type": "code",
   "execution_count": null,
   "id": "fccfddaa",
   "metadata": {},
   "outputs": [],
   "source": [
    "df2 = pd.read_csv('../data/external/final_data/final_data_without_duplicates_10_elbagory_scrapping.csv',index_col=0)\n"
   ]
  },
  {
   "cell_type": "code",
   "execution_count": null,
   "id": "c26a0250",
   "metadata": {},
   "outputs": [
    {
     "data": {
      "text/html": [
       "<div>\n",
       "<style scoped>\n",
       "    .dataframe tbody tr th:only-of-type {\n",
       "        vertical-align: middle;\n",
       "    }\n",
       "\n",
       "    .dataframe tbody tr th {\n",
       "        vertical-align: top;\n",
       "    }\n",
       "\n",
       "    .dataframe thead th {\n",
       "        text-align: right;\n",
       "    }\n",
       "</style>\n",
       "<table border=\"1\" class=\"dataframe\">\n",
       "  <thead>\n",
       "    <tr style=\"text-align: right;\">\n",
       "      <th></th>\n",
       "      <th>video_id</th>\n",
       "      <th>trending_date</th>\n",
       "      <th>publish_time</th>\n",
       "      <th>views</th>\n",
       "      <th>likes</th>\n",
       "      <th>dislikes</th>\n",
       "      <th>comment_count</th>\n",
       "      <th>comments_disabled</th>\n",
       "      <th>ratings_disabled</th>\n",
       "      <th>category_title</th>\n",
       "      <th>Country</th>\n",
       "      <th>duration</th>\n",
       "    </tr>\n",
       "  </thead>\n",
       "  <tbody>\n",
       "    <tr>\n",
       "      <th>301844</th>\n",
       "      <td>VsWzjqAyIvY</td>\n",
       "      <td>18.11.05</td>\n",
       "      <td>2018-05-10T05:00:03.000Z</td>\n",
       "      <td>47327</td>\n",
       "      <td>6310</td>\n",
       "      <td>47</td>\n",
       "      <td>448</td>\n",
       "      <td>False</td>\n",
       "      <td>False</td>\n",
       "      <td>People &amp; Blogs</td>\n",
       "      <td>RU</td>\n",
       "      <td>2:00</td>\n",
       "    </tr>\n",
       "    <tr>\n",
       "      <th>133038</th>\n",
       "      <td>kGOmPmILndU</td>\n",
       "      <td>17.15.11</td>\n",
       "      <td>2017-11-07T13:30:04.000Z</td>\n",
       "      <td>1500067</td>\n",
       "      <td>65867</td>\n",
       "      <td>1836</td>\n",
       "      <td>5638</td>\n",
       "      <td>False</td>\n",
       "      <td>False</td>\n",
       "      <td>Music</td>\n",
       "      <td>GB</td>\n",
       "      <td>2:45</td>\n",
       "    </tr>\n",
       "    <tr>\n",
       "      <th>240452</th>\n",
       "      <td>PqCNicmUs8A</td>\n",
       "      <td>18.16.01</td>\n",
       "      <td>2018-01-11T11:57:22.000Z</td>\n",
       "      <td>676161</td>\n",
       "      <td>10551</td>\n",
       "      <td>443</td>\n",
       "      <td>3213</td>\n",
       "      <td>False</td>\n",
       "      <td>False</td>\n",
       "      <td>Entertainment</td>\n",
       "      <td>KR</td>\n",
       "      <td>4:29</td>\n",
       "    </tr>\n",
       "    <tr>\n",
       "      <th>94476</th>\n",
       "      <td>PevUW-7xI_8</td>\n",
       "      <td>18.25.04</td>\n",
       "      <td>2018-04-24T16:24:05.000Z</td>\n",
       "      <td>7380</td>\n",
       "      <td>48</td>\n",
       "      <td>3</td>\n",
       "      <td>4</td>\n",
       "      <td>False</td>\n",
       "      <td>False</td>\n",
       "      <td>Comedy</td>\n",
       "      <td>FR</td>\n",
       "      <td>3:17</td>\n",
       "    </tr>\n",
       "    <tr>\n",
       "      <th>319940</th>\n",
       "      <td>mgJVbAK4Hw4</td>\n",
       "      <td>18.24.02</td>\n",
       "      <td>2018-02-23T21:17:51.000Z</td>\n",
       "      <td>13001</td>\n",
       "      <td>199</td>\n",
       "      <td>388</td>\n",
       "      <td>340</td>\n",
       "      <td>False</td>\n",
       "      <td>False</td>\n",
       "      <td>News &amp; Politics</td>\n",
       "      <td>RU</td>\n",
       "      <td>17:56</td>\n",
       "    </tr>\n",
       "    <tr>\n",
       "      <th>...</th>\n",
       "      <td>...</td>\n",
       "      <td>...</td>\n",
       "      <td>...</td>\n",
       "      <td>...</td>\n",
       "      <td>...</td>\n",
       "      <td>...</td>\n",
       "      <td>...</td>\n",
       "      <td>...</td>\n",
       "      <td>...</td>\n",
       "      <td>...</td>\n",
       "      <td>...</td>\n",
       "      <td>...</td>\n",
       "    </tr>\n",
       "    <tr>\n",
       "      <th>86551</th>\n",
       "      <td>20xQIUzWQsY</td>\n",
       "      <td>18.06.03</td>\n",
       "      <td>2018-03-05T10:08:24.000Z</td>\n",
       "      <td>74255</td>\n",
       "      <td>2054</td>\n",
       "      <td>61</td>\n",
       "      <td>116</td>\n",
       "      <td>False</td>\n",
       "      <td>False</td>\n",
       "      <td>Entertainment</td>\n",
       "      <td>FR</td>\n",
       "      <td>1:26</td>\n",
       "    </tr>\n",
       "    <tr>\n",
       "      <th>265898</th>\n",
       "      <td>FEeTA14p_0k</td>\n",
       "      <td>18.10.06</td>\n",
       "      <td>2018-06-10T07:55:55.000Z</td>\n",
       "      <td>20958</td>\n",
       "      <td>1894</td>\n",
       "      <td>55</td>\n",
       "      <td>999</td>\n",
       "      <td>False</td>\n",
       "      <td>False</td>\n",
       "      <td>Entertainment</td>\n",
       "      <td>MX</td>\n",
       "      <td>31:46</td>\n",
       "    </tr>\n",
       "    <tr>\n",
       "      <th>43206</th>\n",
       "      <td>g1-W7FOzItY</td>\n",
       "      <td>17.17.12</td>\n",
       "      <td>2017-12-16T11:00:04.000Z</td>\n",
       "      <td>41036</td>\n",
       "      <td>3509</td>\n",
       "      <td>185</td>\n",
       "      <td>201</td>\n",
       "      <td>False</td>\n",
       "      <td>False</td>\n",
       "      <td>Entertainment</td>\n",
       "      <td>DE</td>\n",
       "      <td>9:46</td>\n",
       "    </tr>\n",
       "    <tr>\n",
       "      <th>334099</th>\n",
       "      <td>9DUfFHaUpxg</td>\n",
       "      <td>18.25.03</td>\n",
       "      <td>2018-03-20T14:24:31.000Z</td>\n",
       "      <td>1732872</td>\n",
       "      <td>46176</td>\n",
       "      <td>513</td>\n",
       "      <td>2662</td>\n",
       "      <td>False</td>\n",
       "      <td>False</td>\n",
       "      <td>People &amp; Blogs</td>\n",
       "      <td>US</td>\n",
       "      <td>3:28</td>\n",
       "    </tr>\n",
       "    <tr>\n",
       "      <th>293841</th>\n",
       "      <td>NqKVWdMSlSs</td>\n",
       "      <td>17.02.12</td>\n",
       "      <td>2017-12-01T10:35:37.000Z</td>\n",
       "      <td>10016</td>\n",
       "      <td>817</td>\n",
       "      <td>20</td>\n",
       "      <td>36</td>\n",
       "      <td>False</td>\n",
       "      <td>False</td>\n",
       "      <td>People &amp; Blogs</td>\n",
       "      <td>RU</td>\n",
       "      <td>13:57</td>\n",
       "    </tr>\n",
       "  </tbody>\n",
       "</table>\n",
       "<p>4077 rows × 12 columns</p>\n",
       "</div>"
      ],
      "text/plain": [
       "           video_id trending_date              publish_time    views  likes  \\\n",
       "301844  VsWzjqAyIvY      18.11.05  2018-05-10T05:00:03.000Z    47327   6310   \n",
       "133038  kGOmPmILndU      17.15.11  2017-11-07T13:30:04.000Z  1500067  65867   \n",
       "240452  PqCNicmUs8A      18.16.01  2018-01-11T11:57:22.000Z   676161  10551   \n",
       "94476   PevUW-7xI_8      18.25.04  2018-04-24T16:24:05.000Z     7380     48   \n",
       "319940  mgJVbAK4Hw4      18.24.02  2018-02-23T21:17:51.000Z    13001    199   \n",
       "...             ...           ...                       ...      ...    ...   \n",
       "86551   20xQIUzWQsY      18.06.03  2018-03-05T10:08:24.000Z    74255   2054   \n",
       "265898  FEeTA14p_0k      18.10.06  2018-06-10T07:55:55.000Z    20958   1894   \n",
       "43206   g1-W7FOzItY      17.17.12  2017-12-16T11:00:04.000Z    41036   3509   \n",
       "334099  9DUfFHaUpxg      18.25.03  2018-03-20T14:24:31.000Z  1732872  46176   \n",
       "293841  NqKVWdMSlSs      17.02.12  2017-12-01T10:35:37.000Z    10016    817   \n",
       "\n",
       "        dislikes  comment_count  comments_disabled  ratings_disabled  \\\n",
       "301844        47            448              False             False   \n",
       "133038      1836           5638              False             False   \n",
       "240452       443           3213              False             False   \n",
       "94476          3              4              False             False   \n",
       "319940       388            340              False             False   \n",
       "...          ...            ...                ...               ...   \n",
       "86551         61            116              False             False   \n",
       "265898        55            999              False             False   \n",
       "43206        185            201              False             False   \n",
       "334099       513           2662              False             False   \n",
       "293841        20             36              False             False   \n",
       "\n",
       "         category_title Country duration  \n",
       "301844   People & Blogs      RU     2:00  \n",
       "133038            Music      GB     2:45  \n",
       "240452    Entertainment      KR     4:29  \n",
       "94476            Comedy      FR     3:17  \n",
       "319940  News & Politics      RU    17:56  \n",
       "...                 ...     ...      ...  \n",
       "86551     Entertainment      FR     1:26  \n",
       "265898    Entertainment      MX    31:46  \n",
       "43206     Entertainment      DE     9:46  \n",
       "334099   People & Blogs      US     3:28  \n",
       "293841   People & Blogs      RU    13:57  \n",
       "\n",
       "[4077 rows x 12 columns]"
      ]
     },
     "metadata": {},
     "output_type": "display_data"
    }
   ],
   "source": [
    "df2"
   ]
  },
  {
   "cell_type": "code",
   "execution_count": null,
   "id": "be2c3e27",
   "metadata": {},
   "outputs": [],
   "source": [
    "import time\n",
    "def convert(time_string):\n",
    "    if time_string.count(':') == 2:\n",
    "        date_var = time.strptime(time_string, '%H:%M:%S')\n",
    "\n",
    "    else:    \n",
    "        date_var = time.strptime(time_string, '%M:%S')\n",
    "\n",
    "    minutes = date_var.tm_hour * 60 + date_var.tm_min\n",
    "    \n",
    "    if date_var.tm_sec > 30:\n",
    "        minutes+=1\n",
    "    return minutes\n",
    "\n",
    "\n",
    "\n",
    "duration = df2.duration.apply(lambda x : convert(x))"
   ]
  },
  {
   "cell_type": "code",
   "execution_count": null,
   "id": "1c7b60c8",
   "metadata": {},
   "outputs": [
    {
     "data": {
      "text/plain": [
       "3     356\n",
       "2     298\n",
       "1     295\n",
       "4     275\n",
       "10    231\n",
       "5     218\n",
       "6     194\n",
       "7     185\n",
       "11    155\n",
       "8     135\n",
       "Name: duration, dtype: int64"
      ]
     },
     "metadata": {},
     "output_type": "display_data"
    }
   ],
   "source": [
    "duration[duration>0].value_counts(ascending=False)[:10]"
   ]
  },
  {
   "cell_type": "code",
   "execution_count": null,
   "id": "fa502f33",
   "metadata": {},
   "outputs": [
    {
     "name": "stdout",
     "output_type": "stream",
     "text": [
      "602\n"
     ]
    }
   ],
   "source": [
    "# import datetime\n",
    "\n",
    "# date_time_str = '28:58'\n",
    "# date_time_obj = datetime.datetime.strptime(date_time_str, '%M:%S')\n",
    "\n",
    "# print('Date:', date_time_obj.date())\n",
    "# print('Time:', date_time_obj)\n",
    "# print('Date-time:', date_time_obj)\n",
    "\n",
    "# import time\n",
    "\n",
    "# def convert(time_string):\n",
    "#     date_var = time.strptime(time_string, '%M:%S')\n",
    "\n",
    "#     return date_var\n",
    "\n",
    "my_time = convert('10:2:00')\n",
    "\n",
    "\n",
    "print(my_time)\n",
    "# print(my_time.tm_min)\n",
    "# print(my_time.tm_sec)\n",
    "    "
   ]
  },
  {
   "cell_type": "code",
   "execution_count": null,
   "id": "a92ffc8c",
   "metadata": {},
   "outputs": [],
   "source": [
    "Us.duration[Us.duration.isna()]"
   ]
  },
  {
   "cell_type": "code",
   "execution_count": null,
   "id": "563d709d",
   "metadata": {},
   "outputs": [],
   "source": []
  },
  {
   "cell_type": "code",
   "execution_count": null,
   "id": "7505e308",
   "metadata": {},
   "outputs": [],
   "source": []
  }
 ],
 "metadata": {
  "interpreter": {
   "hash": "d054e541130385a86fecefcdc5366c38f05a1249454ba2642db02ea3c044b679"
  },
  "kernelspec": {
   "display_name": "Python 3",
   "language": "python",
   "name": "python3"
  },
  "language_info": {
   "codemirror_mode": {
    "name": "ipython",
    "version": 3
   },
   "file_extension": ".py",
   "mimetype": "text/x-python",
   "name": "python",
   "nbconvert_exporter": "python",
   "pygments_lexer": "ipython3",
   "version": "3.8.8"
  }
 },
 "nbformat": 4,
 "nbformat_minor": 2
}
